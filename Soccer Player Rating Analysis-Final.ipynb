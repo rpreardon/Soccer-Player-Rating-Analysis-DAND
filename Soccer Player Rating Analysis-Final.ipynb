{
 "cells": [
  {
   "cell_type": "markdown",
   "metadata": {},
   "source": [
    "# Project: Soccer Player Rating Analysis\n",
    "\n",
    "## Table of Contents\n",
    "<ul>\n",
    "<li><a href=\"#intro\">Introduction</a></li>\n",
    "<li><a href=\"#wrangling\">Data Wrangling</a></li>\n",
    "<li><a href=\"#eda\">Exploratory Data Analysis</a></li>\n",
    "<li><a href=\"#conclusions\">Conclusions</a></li>\n",
    "</ul>"
   ]
  },
  {
   "cell_type": "markdown",
   "metadata": {},
   "source": [
    "<a id='intro'></a>\n",
    "## Introduction\n",
    "\n",
    "> In this project we'll be analyzing a soccer database from kaggle. We'll be looking at variables that may affect the overall rating of a player or players and trends in those ratings from 2007-2016.  \n",
    "\n",
    "\n",
    "### 4 questions we'll be exploring in the analysis\n",
    "\n",
    "\n",
    "<ul>\n",
    "<li><a href=\"#intro\"></a>Are left footed players better on average than right footed players?</li>\n",
    "<li><a href=\"#wrangling\"></a>Does age affect a players rating?</li>\n",
    "<li><a href=\"#eda\"></a>Has the average overall rating of soccer players improved from 2007 -2016?</li>\n",
    "<li><a href=\"#conclusions\"></a>How many players reached their potential from 2007 to 2016?</li>\n",
    "</ul>"
   ]
  },
  {
   "cell_type": "code",
   "execution_count": 1,
   "metadata": {},
   "outputs": [],
   "source": [
    "#import statements for all of the packages used\n",
    "\n",
    "import pandas as pd\n",
    "import numpy as np\n",
    "import matplotlib.pyplot as plt\n",
    "import seaborn as sns\n",
    "% matplotlib inline\n"
   ]
  },
  {
   "cell_type": "markdown",
   "metadata": {},
   "source": [
    "<a id='wrangling'></a>\n",
    "## Data Wrangling\n",
    "\n",
    "\n",
    "### General Properties\n",
    "\n",
    "> From the soccer player database, the player and player attributes tables were joined on player_api_id and exported to csv and saved on my local machine as soccer_player.csv to analyze the overall rating of players through 2007-2016."
   ]
  },
  {
   "cell_type": "code",
   "execution_count": 2,
   "metadata": {},
   "outputs": [
    {
     "name": "stdout",
     "output_type": "stream",
     "text": [
      "<class 'pandas.core.frame.DataFrame'>\n",
      "RangeIndex: 183978 entries, 0 to 183977\n",
      "Data columns (total 49 columns):\n",
      "id                      183978 non-null int64\n",
      "player_api_id           183978 non-null int64\n",
      "player_name             183978 non-null object\n",
      "player_fifa_api_id      183978 non-null int64\n",
      "birthday                183978 non-null object\n",
      "height                  183978 non-null float64\n",
      "weight                  183978 non-null int64\n",
      "id.1                    183978 non-null int64\n",
      "player_fifa_api_id.1    183978 non-null int64\n",
      "player_api_id.1         183978 non-null int64\n",
      "date                    183978 non-null object\n",
      "overall_rating          183142 non-null float64\n",
      "potential               183142 non-null float64\n",
      "preferred_foot          183142 non-null object\n",
      "attacking_work_rate     180748 non-null object\n",
      "defensive_work_rate     183142 non-null object\n",
      "crossing                183142 non-null float64\n",
      "finishing               183142 non-null float64\n",
      "heading_accuracy        183142 non-null float64\n",
      "short_passing           183142 non-null float64\n",
      "volleys                 181265 non-null float64\n",
      "dribbling               183142 non-null float64\n",
      "curve                   181265 non-null float64\n",
      "free_kick_accuracy      183142 non-null float64\n",
      "long_passing            183142 non-null float64\n",
      "ball_control            183142 non-null float64\n",
      "acceleration            183142 non-null float64\n",
      "sprint_speed            183142 non-null float64\n",
      "agility                 181265 non-null float64\n",
      "reactions               183142 non-null float64\n",
      "balance                 181265 non-null float64\n",
      "shot_power              183142 non-null float64\n",
      "jumping                 181265 non-null float64\n",
      "stamina                 183142 non-null float64\n",
      "strength                183142 non-null float64\n",
      "long_shots              183142 non-null float64\n",
      "aggression              183142 non-null float64\n",
      "interceptions           183142 non-null float64\n",
      "positioning             183142 non-null float64\n",
      "vision                  181265 non-null float64\n",
      "penalties               183142 non-null float64\n",
      "marking                 183142 non-null float64\n",
      "standing_tackle         183142 non-null float64\n",
      "sliding_tackle          181265 non-null float64\n",
      "gk_diving               183142 non-null float64\n",
      "gk_handling             183142 non-null float64\n",
      "gk_kicking              183142 non-null float64\n",
      "gk_positioning          183142 non-null float64\n",
      "gk_reflexes             183142 non-null float64\n",
      "dtypes: float64(36), int64(7), object(6)\n",
      "memory usage: 68.8+ MB\n",
      "\n",
      "Missing data...\n"
     ]
    },
    {
     "data": {
      "text/plain": [
       "47301"
      ]
     },
     "execution_count": 2,
     "metadata": {},
     "output_type": "execute_result"
    }
   ],
   "source": [
    "#Loading soccer_player.csv file saved from the soccer database\n",
    "df = pd.read_csv('soccer_player.csv')\n",
    "df.info()\n",
    "\n",
    "print('\\nMissing data...')\n",
    "np.count_nonzero(df.isnull().values)   \n",
    "np.count_nonzero(df.isnull())"
   ]
  },
  {
   "cell_type": "markdown",
   "metadata": {},
   "source": [
    "### Data Cleaning\n",
    "\n",
    ">Soccer_player.csv file loaded into dataframe shows 183978 rows, 47 columns, and 47301 rows with missing data.  Reviewing the the data, we only needed to utilize 6 columns player_name, birthday, date, overall_rating, potential, and preferred_foot to answer our questions from the introduction.\n",
    "\n",
    ">To clean this data; I dropped the extra columns, added a age column and removed the birthday column, converted the date column to year and removed multiple inputs for a single year for individual players and chose to keep the last rating in the year to analyze. Finally, I added a column to show the difference between overall rating and potential."
   ]
  },
  {
   "cell_type": "code",
   "execution_count": 3,
   "metadata": {},
   "outputs": [
    {
     "name": "stdout",
     "output_type": "stream",
     "text": [
      "<class 'pandas.core.frame.DataFrame'>\n",
      "RangeIndex: 72020 entries, 0 to 72019\n",
      "Data columns (total 7 columns):\n",
      "player_name                      72020 non-null object\n",
      "age                              72020 non-null int64\n",
      "year                             72020 non-null int64\n",
      "overall_rating                   72020 non-null float64\n",
      "potential                        72020 non-null float64\n",
      "overall_rating_potential_diff    72020 non-null float64\n",
      "preferred_foot                   72020 non-null object\n",
      "dtypes: float64(3), int64(2), object(2)\n",
      "memory usage: 3.8+ MB\n"
     ]
    },
    {
     "data": {
      "text/html": [
       "<div>\n",
       "<style scoped>\n",
       "    .dataframe tbody tr th:only-of-type {\n",
       "        vertical-align: middle;\n",
       "    }\n",
       "\n",
       "    .dataframe tbody tr th {\n",
       "        vertical-align: top;\n",
       "    }\n",
       "\n",
       "    .dataframe thead th {\n",
       "        text-align: right;\n",
       "    }\n",
       "</style>\n",
       "<table border=\"1\" class=\"dataframe\">\n",
       "  <thead>\n",
       "    <tr style=\"text-align: right;\">\n",
       "      <th></th>\n",
       "      <th>player_name</th>\n",
       "      <th>age</th>\n",
       "      <th>year</th>\n",
       "      <th>overall_rating</th>\n",
       "      <th>potential</th>\n",
       "      <th>overall_rating_potential_diff</th>\n",
       "      <th>preferred_foot</th>\n",
       "    </tr>\n",
       "  </thead>\n",
       "  <tbody>\n",
       "    <tr>\n",
       "      <th>0</th>\n",
       "      <td>Aaron Appindangoye</td>\n",
       "      <td>24</td>\n",
       "      <td>2016</td>\n",
       "      <td>67.0</td>\n",
       "      <td>71.0</td>\n",
       "      <td>-4.0</td>\n",
       "      <td>right</td>\n",
       "    </tr>\n",
       "    <tr>\n",
       "      <th>1</th>\n",
       "      <td>Aaron Appindangoye</td>\n",
       "      <td>23</td>\n",
       "      <td>2015</td>\n",
       "      <td>61.0</td>\n",
       "      <td>65.0</td>\n",
       "      <td>-4.0</td>\n",
       "      <td>right</td>\n",
       "    </tr>\n",
       "    <tr>\n",
       "      <th>2</th>\n",
       "      <td>Aaron Appindangoye</td>\n",
       "      <td>15</td>\n",
       "      <td>2007</td>\n",
       "      <td>61.0</td>\n",
       "      <td>65.0</td>\n",
       "      <td>-4.0</td>\n",
       "      <td>right</td>\n",
       "    </tr>\n",
       "    <tr>\n",
       "      <th>3</th>\n",
       "      <td>Aaron Cresswell</td>\n",
       "      <td>27</td>\n",
       "      <td>2016</td>\n",
       "      <td>73.0</td>\n",
       "      <td>75.0</td>\n",
       "      <td>-2.0</td>\n",
       "      <td>left</td>\n",
       "    </tr>\n",
       "    <tr>\n",
       "      <th>4</th>\n",
       "      <td>Aaron Cresswell</td>\n",
       "      <td>26</td>\n",
       "      <td>2015</td>\n",
       "      <td>71.0</td>\n",
       "      <td>75.0</td>\n",
       "      <td>-4.0</td>\n",
       "      <td>left</td>\n",
       "    </tr>\n",
       "  </tbody>\n",
       "</table>\n",
       "</div>"
      ],
      "text/plain": [
       "          player_name  age  year  overall_rating  potential  \\\n",
       "0  Aaron Appindangoye   24  2016            67.0       71.0   \n",
       "1  Aaron Appindangoye   23  2015            61.0       65.0   \n",
       "2  Aaron Appindangoye   15  2007            61.0       65.0   \n",
       "3     Aaron Cresswell   27  2016            73.0       75.0   \n",
       "4     Aaron Cresswell   26  2015            71.0       75.0   \n",
       "\n",
       "   overall_rating_potential_diff preferred_foot  \n",
       "0                           -4.0          right  \n",
       "1                           -4.0          right  \n",
       "2                           -4.0          right  \n",
       "3                           -2.0           left  \n",
       "4                           -4.0           left  "
      ]
     },
     "execution_count": 3,
     "metadata": {},
     "output_type": "execute_result"
    }
   ],
   "source": [
    "def data_clean():\n",
    "    \n",
    "    #drop the extra columns in the dataframe that are not being used\n",
    "    df.drop(['id','player_api_id','player_fifa_api_id','id.1','player_fifa_api_id.1','player_api_id.1',\n",
    "        'attacking_work_rate','defensive_work_rate','crossing','finishing','heading_accuracy','short_passing',\n",
    "         'volleys','dribbling','curve','free_kick_accuracy','long_passing','ball_control','acceleration',\n",
    "        'sprint_speed','agility','reactions','balance','shot_power','jumping','stamina','strength','long_shots',\n",
    "        'aggression','interceptions','positioning','vision','penalties','marking','standing_tackle','sliding_tackle',\n",
    "        'gk_diving','gk_handling','gk_kicking','gk_positioning','gk_reflexes','height','weight'],axis=1, inplace=True)\n",
    "    \n",
    "    \n",
    "    #rename the date column to year\n",
    "    df.rename(columns={'date': 'year'}, inplace=True)\n",
    "    \n",
    "    #drop the null values from overall_rating, potential, and preferred_foot columns\n",
    "    df.dropna(inplace=True)\n",
    "    \n",
    "    #Calculate the age of player at the time period of the rating\n",
    "    birthday = pd.to_datetime(df['birthday']).dt.year\n",
    "    date = pd.to_datetime(df['year']).dt.year\n",
    "    age = date - birthday\n",
    "    \n",
    "    #Create a new column age with the calculation above\n",
    "    df.insert(1,'age',age)\n",
    "    \n",
    "    #drop the birthday column\n",
    "    df.drop(['birthday'],axis=1,inplace=True)\n",
    "    \n",
    "    #Change format of the year column to only show year\n",
    "    df['year'] = pd.to_datetime(df['year']).dt.year\n",
    "    \n",
    "    #drop the duplicate year for the individual player and keep the last rating\n",
    "    df.drop_duplicates(['player_name','year'],keep= 'last',inplace=True)\n",
    "    \n",
    "    #reset the index after dropping the duplicates\n",
    "    df.reset_index(inplace=True)\n",
    "    \n",
    "    #drop the additional index column\n",
    "    df.drop(['index'],axis=1,inplace=True)\n",
    "    \n",
    "    #create a variable taking the difference between the overall rating column and potential column\n",
    "    diff = df['overall_rating'] - df['potential']\n",
    "    \n",
    "    #insert a new column showing the difference between overall rating and potential in the dataframe\n",
    "    df.insert(5,'overall_rating_potential_diff',diff)\n",
    "    \n",
    "    df.info()\n",
    "    \n",
    "    return;\n",
    "\n",
    "#return the final dataframe\n",
    "data_clean()\n",
    "df.head()"
   ]
  },
  {
   "cell_type": "code",
   "execution_count": 4,
   "metadata": {},
   "outputs": [],
   "source": [
    "#save updated file\n",
    "df.to_csv('soccer_player_final.csv', index = False, encoding = 'utf-8')"
   ]
  },
  {
   "cell_type": "markdown",
   "metadata": {},
   "source": [
    "<a id='eda'></a>\n",
    "## Exploratory Data Analysis\n",
    "\n",
    "### Are left footed players better on average than right footed players?"
   ]
  },
  {
   "cell_type": "code",
   "execution_count": 5,
   "metadata": {},
   "outputs": [
    {
     "name": "stdout",
     "output_type": "stream",
     "text": [
      "Overall rating mean, median, and mode of right footers...\n",
      "\n",
      "mean: 66.92\n",
      "median: 67.0\n",
      "mode: 67.0 \n",
      "\n",
      "Overall rating mean, median, and mode of left footers...\n",
      "\n",
      "mean: 67.19\n",
      "median: 67.0\n",
      "mode: 64.0 \n",
      "\n",
      "Right foot count and percentage of total...\n",
      "\n",
      "Count: 54616\n",
      "Percentage: 75.83 %\n",
      "\n",
      "Left foot count and percentage of total...\n",
      "\n",
      "Count: 17404\n",
      "Percentage: 24.17 %\n",
      "\n"
     ]
    },
    {
     "data": {
      "image/png": "[encoded data removed]",
      "text/plain": [
       "<Figure size 432x288 with 1 Axes>"
      ]
     },
     "metadata": {},
     "output_type": "display_data"
    }
   ],
   "source": [
    "def right_left():\n",
    "    \n",
    "    #finding the preferred foot; right or left in column preferred_foot\n",
    "    right = df.preferred_foot == 'right'\n",
    "    left = df.preferred_foot == 'left'\n",
    "    \n",
    "    #calculate the mean, median, and mode of right footers\n",
    "    r_mean = df.overall_rating[right].mean()\n",
    "    r_median = df.overall_rating[right].median()\n",
    "    r_mode = df.overall_rating[right].mode()\n",
    "    \n",
    "    #calculate the mean, median, and mode of left footers\n",
    "    l_mean = df.overall_rating[left].mean()\n",
    "    l_median = df.overall_rating[left].median()\n",
    "    l_mode = df.overall_rating[left].mode()\n",
    "    \n",
    "    print('Overall rating mean, median, and mode of right footers...\\n')\n",
    "    print('mean:',float(round(r_mean,2)))\n",
    "    print('median:',float(round(r_median,2)))\n",
    "    print('mode:',float(round(r_mode,2)),\"\\n\")\n",
    "    \n",
    "    print('Overall rating mean, median, and mode of left footers...\\n')\n",
    "    print('mean:',float(round(l_mean,2)))\n",
    "    print('median:',float(round(l_median,2)))\n",
    "    print('mode:',float(round(l_mode,2)),\"\\n\")\n",
    "    \n",
    "    \n",
    "    #calculate the counts of players whom are right footed and left footed along with the percentages of the total\n",
    "    r_count = df.overall_rating[right].count()\n",
    "    l_count = df.overall_rating[left].count()\n",
    "    total = df.overall_rating.count()\n",
    "    r_per = r_count/total*100\n",
    "    l_per = l_count/total*100\n",
    "    \n",
    "    print('Right foot count and percentage of total...\\n')\n",
    "    print('Count:',r_count)\n",
    "    print('Percentage:',\"{} %\\n\".format(round(r_per,2)))\n",
    "    print('Left foot count and percentage of total...\\n')\n",
    "    print('Count:',l_count)\n",
    "    print('Percentage:',\"{} %\\n\".format(round(l_per,2)))\n",
    "    \n",
    "    #histogram showing the distributions of right and left footers overall rating\n",
    "    df.overall_rating[right].hist(alpha=0.5,bins=20,label='Right Footed',color='orange')\n",
    "    df.overall_rating[left].hist(alpha=0.5,bins=20,label='Left Footed',color='blue')\n",
    "    plt.title('Overall Rating of Right Footed Players vs Left Footed Players')\n",
    "    plt.xlabel('Overall Rating',fontsize=12)\n",
    "    plt.ylabel('Soccer Players',fontsize=12)\n",
    "    plt.grid(False)\n",
    "    plt.legend();\n",
    "    \n",
    "    return;\n",
    "\n",
    "right_left()"
   ]
  },
  {
   "cell_type": "markdown",
   "metadata": {},
   "source": [
    "### Reason for Analysis\n",
    "\n",
    "For this analysis, we're comparing the overall rating of left footers to right footers and seeing if one group performs better than the other.\n",
    "\n",
    "I chose to calculate the average overall rating of left footers and right footers; to see if the ratings average for one group was higher than the other.\n",
    "\n",
    "In addition, I chose to calculate the counts of left footers and right footers and the percentages of the total; to see the differences between the two groups.\n",
    "\n",
    "The plot is of a stacked histogram showing the distributions of right footers and left footers.  I chose this distribution because it's easy to visual the mean, median, and mode.  Also, you can see how the counts compare to the two groups. "
   ]
  },
  {
   "cell_type": "markdown",
   "metadata": {},
   "source": [
    "### How does age affect the players overall rating?"
   ]
  },
  {
   "cell_type": "code",
   "execution_count": 6,
   "metadata": {},
   "outputs": [
    {
     "name": "stdout",
     "output_type": "stream",
     "text": [
      "correlation coefficient between age and overall rating...\n",
      "\n",
      "[[1.         0.46002369]\n",
      " [0.46002369 1.        ]]\n"
     ]
    },
    {
     "data": {
      "image/png": "[encoded data removed]",
      "text/plain": [
       "<Figure size 432x288 with 1 Axes>"
      ]
     },
     "metadata": {},
     "output_type": "display_data"
    }
   ],
   "source": [
    "def players_age():\n",
    "    \n",
    "    #correlation coefficient between age and overall rating\n",
    "    x = df.age\n",
    "    y = df.overall_rating\n",
    "\n",
    "    cc = np.corrcoef(x, y)\n",
    "\n",
    "    print('correlation coefficient between age and overall rating...\\n')\n",
    "    print(cc)\n",
    "    \n",
    "    #scatter plot showing a moderate positive correlation between age and overall rating\n",
    "    plt.scatter(x, y, alpha=0.5,color='orange')\n",
    "    plt.title('Soccer Player Overall Rating vs Age',fontsize=12)\n",
    "    plt.xlabel('Age',fontsize=12)\n",
    "    plt.ylabel('Overall Rating',fontsize=12)\n",
    "    plt.show();\n",
    "    \n",
    "    return;\n",
    "\n",
    "players_age()    "
   ]
  },
  {
   "cell_type": "markdown",
   "metadata": {},
   "source": [
    "### Reason for Analysis\n",
    "\n",
    "for this analysis, we're comparing the age of a player to their overall rating. \n",
    "\n",
    "I thought the easiest was to see if two variables are correlated is calculate the correlation coefficent between the two.\n",
    "\n",
    "The plot used in the analysis for the two variables is a scatter plot.  Thought it would be best for two variables and visually it's easier to see the correlation."
   ]
  },
  {
   "cell_type": "markdown",
   "metadata": {},
   "source": [
    "### Has the average overall rating of soccer players improved from 2007- 2016?"
   ]
  },
  {
   "cell_type": "code",
   "execution_count": 7,
   "metadata": {},
   "outputs": [
    {
     "name": "stdout",
     "output_type": "stream",
     "text": [
      "Average Overall Rating of Players from 2007-2016...\n",
      "\n",
      "year\n",
      "2007    63.029867\n",
      "2008    66.803502\n",
      "2009    67.125021\n",
      "2010    67.327233\n",
      "2011    67.612091\n",
      "2012    67.700640\n",
      "2013    67.475578\n",
      "2014    67.497983\n",
      "2015    67.964257\n",
      "2016    69.849043\n",
      "Name: overall_rating, dtype: float64 \n",
      "\n",
      "overall rating percentage change from 2007-2016...\n",
      "\n",
      "Percentage:10.82 %\n",
      "\n"
     ]
    },
    {
     "data": {
      "image/png": "[encoded data removed]",
      "text/plain": [
       "<Figure size 432x288 with 1 Axes>"
      ]
     },
     "metadata": {},
     "output_type": "display_data"
    }
   ],
   "source": [
    "def avg_rating():\n",
    "    \n",
    "    #average overall rating per year from 2007-2016\n",
    "    means = df.groupby('year').mean()['overall_rating']\n",
    "    \n",
    "    print('Average Overall Rating of Players from 2007-2016...\\n')\n",
    "    print(means,'\\n')\n",
    "    \n",
    "    #increase by percentage from 2007-2016\n",
    "    yr_2016 = df.year == 2016\n",
    "    yr_2007 = df.year == 2007\n",
    "    rt_2016 = df.overall_rating[yr_2016].mean()\n",
    "    rt_2007 = df.overall_rating[yr_2007].mean()\n",
    "    chg = rt_2016-rt_2007\n",
    "    per_chg = chg/rt_2007*100\n",
    "    \n",
    "    print('overall rating percentage change from 2007-2016...\\n')\n",
    "    print('Percentage:'\"{} %\\n\".format(round(per_chg,2)))\n",
    "    \n",
    "    #line plot showing the yearly progression and steady increase of overall rating of soccer players from 2007-2016\n",
    "    means.plot(kind='line',alpha=0.5,color='blue') \n",
    "    plt.title('Soccer Player Average Overall Rating per Year',fontsize=12)\n",
    "    plt.xlabel('Year',fontsize=12)\n",
    "    plt.ylabel('Average Overall Rating per Year',fontsize=12)\n",
    "    plt.show();\n",
    "    \n",
    "    return;\n",
    "\n",
    "avg_rating()"
   ]
  },
  {
   "cell_type": "markdown",
   "metadata": {},
   "source": [
    "### Reason for Analysis\n",
    "\n",
    "For this analysis, we're looking at the overall rating average per year.\n",
    "\n",
    "I chose to calculate the averages from 2007-2016 and the percentage change in that period.\n",
    "\n",
    "I chose a line chart because it's a good visual for value over a time."
   ]
  },
  {
   "cell_type": "markdown",
   "metadata": {},
   "source": [
    "### How many players reached their potential from 2007 - 2016?"
   ]
  },
  {
   "cell_type": "code",
   "execution_count": 8,
   "metadata": {},
   "outputs": [
    {
     "name": "stdout",
     "output_type": "stream",
     "text": [
      "Percentage of players that reached their potential...\n",
      "\n",
      "Exceeded:0.79 %\n",
      "\n",
      "Achieved:17.22 %\n",
      "\n",
      "Underachieved:81.99 %\n",
      "\n"
     ]
    },
    {
     "data": {
      "image/png": "[encoded data removed]",
      "text/plain": [
       "<Figure size 432x288 with 1 Axes>"
      ]
     },
     "metadata": {},
     "output_type": "display_data"
    }
   ],
   "source": [
    "def reached_potential():\n",
    "    \n",
    "    #find the count of players exceeded,achieved, and underachieved in the 9 year period\n",
    "    exceeded = df.overall_rating_potential_diff > 0\n",
    "    achieved = df.overall_rating_potential_diff == 0\n",
    "    underachieved = df.overall_rating_potential_diff < 0\n",
    "    total = df.overall_rating_potential_diff.count()\n",
    "    \n",
    "    #calculating the percentage of players exceeding(e), achieving(a), and underachieving(u)\n",
    "    e = df.year[exceeded].count()/total*100\n",
    "    a = df.year[achieved].count()/total*100\n",
    "    u = df.year[underachieved].count()/total*100\n",
    "    \n",
    "    print('Percentage of players that reached their potential...\\n')\n",
    "    print('Exceeded:'\"{} %\\n\".format(round(e,2)))\n",
    "    print('Achieved:'\"{} %\\n\".format(round(a,2)))\n",
    "    print('Underachieved:'\"{} %\\n\".format(round(u,2)))\n",
    "    \n",
    "    #pie chart showing the percentages of players that exceeded, achieved, and underachieved in the 9 year period\n",
    "    labels = 'Underachieved', 'Exceeded', 'Achieved'\n",
    "    sizes = [u, e, a]\n",
    "    color = ['lightblue', 'yellowgreen','gold']\n",
    "    explode =(0,0.1,0)\n",
    "\n",
    "    plt.pie(sizes,explode=explode,labels=labels, autopct='%1.1f%%', shadow=True, startangle=230, colors=color)\n",
    "    plt.axis('equal')\n",
    "    plt.title('Player Potential Exceeded, Achieved, or Underachieved')\n",
    "    plt.show();\n",
    "    \n",
    "    return;\n",
    "\n",
    "reached_potential()"
   ]
  },
  {
   "cell_type": "markdown",
   "metadata": {},
   "source": [
    "### Reason for Analysis\n",
    "\n",
    "For this analysis; we're looking the counts of players that exceeded, achieved, and failed to achieve their potential.  \n",
    "\n",
    "I calculated the percentage of each group out of the total.\n",
    "\n",
    "I chose a pie chart to show the percentages of each group of out of the total."
   ]
  },
  {
   "cell_type": "markdown",
   "metadata": {},
   "source": [
    "<a id='conclusions'></a>\n",
    "## Conclusions\n",
    "\n",
    "Are Left Footed players better on average than right footers?\n",
    ">The mean, median, and mode of the overall rating for right and left footers are almost equal at 67 showing no statiscal advantage of being left footed over right.  The count of right footers make about 3/4 quarters of the total, while  left footers make up only a 1/4 of the total, so far less common.  The histogram graphed shows this too as the distributions for both are symmetrical visually showing the equal mean, median, and mode; in addition, the counts for right footers are greater in the graph too.  \n",
    "\n",
    "How does age affect the players overall rating?\n",
    "> The correlation coefficient between age and overall rating is .46 indicating a moderate positive relationship.  The scatter plot shows this visual.  There is a moderate correlation, a young player isn't performing at their peak performance and lacking experience, while a aging player doesn't have the same physical attributes they use too.\n",
    "\n",
    "Has the average overall rating of soccer players improved from 2007- 2016?\n",
    "> Over the 9 year period; from 2007-2016, the average overall rating of players has increased 10.82%.  The line chart shows the change in value over time.  In 2007 this value was around 63 and in 2016 this value increased to near 70.  The analysis shows a slight trend in player ratings.  \n",
    "\n",
    "How many players reached their potential from 2007 - 2016?\n",
    "> From 2007-2016, the percentage of players that excceded potential was very small at .8%; the players that achieved potential 17.2%, and the vast majority of players failed to achieve their potential at 82%.  This could be related to a players skill level, the potential rating was too high, or injuries.  It's hard to determine what's causing the trend exactly; what we can determine is a very small percentage of player exceed potential and a small percentage achieve potential and is probably decent representation of professional players in 1st division leagues across Europe.\n",
    "\n",
    "## Limitations\n",
    "\n",
    "Too many skills and no positional data:\n",
    "> The positional data was missing for the players and most data was mostly centered around lots of skills and how the player rates at that skill.  The data was great for looking up the best dribbler etc, but it didn't necessarily translate to an overall rating.  \n",
    "\n",
    "Decent representation of 1st Division European Leagues:\n",
    "> I thought the sample was an effective representation of players in various 1st divisioin leagues across Europe, but it failed to include leagues in the Americas and other 1st division leagues outside Europe\n",
    "\n",
    "Data cleaning limitations:\n",
    "> One of issues in the data cleaning process were the null values from the overall_rating, potential, and preferred_foot columns.  I dropped these values, since my analysis focused around these variables and they were null across the rows in each variable. Unfortunitely, I dropped 836 rows, which could have influenced my data.  Another decision I made, was to only include one rating for a single year; the last rating.  I felt it was the most accurate, but may have limited the data, because I dropped the other rows ending with a final sample of 72020 rows and 7 columns. "
   ]
  }
 ],
 "metadata": {
  "kernelspec": {
   "display_name": "Python 3",
   "language": "python",
   "name": "python3"
  },
  "language_info": {
   "codemirror_mode": {
    "name": "ipython",
    "version": 3
   },
   "file_extension": ".py",
   "mimetype": "text/x-python",
   "name": "python",
   "nbconvert_exporter": "python",
   "pygments_lexer": "ipython3",
   "version": "3.6.4"
  }
 },
 "nbformat": 4,
 "nbformat_minor": 2
}
